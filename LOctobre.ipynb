{
 "cells": [
  {
   "cell_type": "markdown",
   "metadata": {},
   "source": [
    "C:\\Program Files\\Graphviz\\bin>dot -Tpdf C:/Users/student/Downloads/loco_tree.dot -o \"C:/Users/student/Downloads/loco_tree.pdf\""
   ]
  },
  {
   "cell_type": "markdown",
   "metadata": {},
   "source": [
    "**IMPORTING LIBRARIES**\n",
    "\n",
    "To import the correct libraries, we first had to pip install the spotipy library, to extract data from the spotify API, and the requests library, to get the authorization keys and run them to authenticate the spotify developer account so we could connect to the API.\n",
    "\n",
    "From there, we imported the necessary libraries for this project."
   ]
  },
  {
   "cell_type": "code",
   "execution_count": 1,
   "metadata": {
    "scrolled": false
   },
   "outputs": [
    {
     "name": "stdout",
     "output_type": "stream",
     "text": [
      "Requirement already satisfied: spotipy in c:\\users\\student\\anaconda3\\lib\\site-packages (2.16.0)\n",
      "Requirement already satisfied: six>=1.10.0 in c:\\users\\student\\anaconda3\\lib\\site-packages (from spotipy) (1.15.0)\n",
      "Requirement already satisfied: requests>=2.20.0 in c:\\users\\student\\anaconda3\\lib\\site-packages (from spotipy) (2.24.0)\n",
      "Requirement already satisfied: chardet<4,>=3.0.2 in c:\\users\\student\\anaconda3\\lib\\site-packages (from requests>=2.20.0->spotipy) (3.0.4)\n",
      "Requirement already satisfied: certifi>=2017.4.17 in c:\\users\\student\\anaconda3\\lib\\site-packages (from requests>=2.20.0->spotipy) (2020.6.20)\n",
      "Requirement already satisfied: urllib3!=1.25.0,!=1.25.1,<1.26,>=1.21.1 in c:\\users\\student\\anaconda3\\lib\\site-packages (from requests>=2.20.0->spotipy) (1.25.9)\n",
      "Requirement already satisfied: idna<3,>=2.5 in c:\\users\\student\\anaconda3\\lib\\site-packages (from requests>=2.20.0->spotipy) (2.10)\n"
     ]
    }
   ],
   "source": [
    "! pip install spotipy"
   ]
  },
  {
   "cell_type": "code",
   "execution_count": 2,
   "metadata": {},
   "outputs": [],
   "source": [
    "import spotipy\n",
    "from spotipy.oauth2 import SpotifyClientCredentials\n",
    "import pandas as pd\n",
    "import time \n",
    "import os\n",
    "import sys\n",
    "import json\n",
    "import webbrowser \n",
    "import spotipy.util as util\n",
    "from json.decoder import JSONDecodeError\n",
    "import base64"
   ]
  },
  {
   "cell_type": "markdown",
   "metadata": {},
   "source": [
    "**Auhtorization for the Spotify API**\n",
    "\n",
    "To connect to the Spotify API, we had to connect to the API by using our spotify credentials (spotify_id, spotify_secret) in the function below to allow this code to extract spotify data from the API. "
   ]
  },
  {
   "cell_type": "code",
   "execution_count": 3,
   "metadata": {},
   "outputs": [],
   "source": [
    "spotify_id = '66bc255077d74940a6272a0d2601e6d9'\n",
    "spotify_secret = 'ffeb8bd48e9a4ec3a68a9749ece515a3'\n",
    "sp = spotipy.Spotify(client_credentials_manager=SpotifyClientCredentials(spotify_id,spotify_secret))"
   ]
  },
  {
   "cell_type": "markdown",
   "metadata": {},
   "source": [
    "**EXTRACTING DATA**\n",
    "\n",
    "To make extraction easier for me, I created playlists in spotify for all of the past Locura de Marzo tournaments and put them in order by seed. However, there was one song that Spotify did not have (No Tengo Dinero). We had to keep that in mind when running the simulation. \n",
    "\n",
    "To get the song ids for each song, we used the getTrackIDs function* to extract every song id from each playlist. All of the lists in id_list contain every song for that year's tournament. From there, we appended each list created by the getTrackIDs function into one list (playlists) so one list would be an item in the playlists list. From there, we extracted each list from playlists and assigned each their own variable to put into a list (playlist_list). The lists in the playlist_list hold the song ids of each tournament.\n",
    "\n",
    "From there, we used the getTrackFratures function*, which extracts song metadata and returns it as a list. the variable, track_head, is a list that was needed to name columns in the dataframes we are going to make later.\n",
    "\n",
    "*I credit Sander Horpestad with this code (https://morioh.com/p/31b8a607b2b0)"
   ]
  },
  {
   "cell_type": "code",
   "execution_count": 4,
   "metadata": {
    "scrolled": true
   },
   "outputs": [],
   "source": [
    "def getTrackIDs(user, playlist_id):\n",
    "    ids = []\n",
    "    playlist = sp.user_playlist(user, playlist_id)\n",
    "    for item in playlist['tracks']['items']:\n",
    "        track = item['track']\n",
    "        ids.append(track['id'])\n",
    "    return ids"
   ]
  },
  {
   "cell_type": "code",
   "execution_count": 5,
   "metadata": {},
   "outputs": [],
   "source": [
    "id_oct = '7flePFOJJdH9movvNzwMsF'\n",
    "id_17 = '6xWcKO4TZZ4f5UMrxGgLkv'\n",
    "id_18 = '0uhlhWI8qBI1cn9L4Ibrdd'\n",
    "id_19 = '59D6faNL4KGt2R6Jg6U7F9'\n",
    "id_20 = '57mPJ0uEewNBk5RXyTQWkc'\n",
    "\n",
    "id_list = [id_oct, id_17, id_18, id_19, id_20]"
   ]
  },
  {
   "cell_type": "code",
   "execution_count": 6,
   "metadata": {
    "scrolled": false
   },
   "outputs": [],
   "source": [
    "playlists = []\n",
    "for x in id_list:\n",
    "    playlists.append(getTrackIDs('3kiizy8ug80fzb41x3bdhq931', x))"
   ]
  },
  {
   "cell_type": "code",
   "execution_count": 7,
   "metadata": {},
   "outputs": [],
   "source": [
    "playlist_oct = playlists[0]\n",
    "playlist_17 = playlists[1]\n",
    "playlist_18 = playlists[2]\n",
    "playlist_19 = playlists[3]\n",
    "playlist_20 = playlists[4]\n",
    "\n",
    "playlist_list = [playlist_oct, playlist_17, playlist_18, playlist_19, playlist_20]"
   ]
  },
  {
   "cell_type": "code",
   "execution_count": 8,
   "metadata": {
    "scrolled": true
   },
   "outputs": [],
   "source": [
    "def getTrackFeatures(id):\n",
    "    meta = sp.track(id)\n",
    "    features = sp.audio_features(id)\n",
    "\n",
    "  # meta\n",
    "    name = meta['name']\n",
    "    album = meta['album']['name']\n",
    "    artist = meta['album']['artists'][0]['name']\n",
    "    release_date = meta['album']['release_date']\n",
    "    length = meta['duration_ms']\n",
    "    popularity = meta['popularity']\n",
    "\n",
    "    # features\n",
    "    acousticness = features[0]['acousticness']\n",
    "    danceability = features[0]['danceability']\n",
    "    energy = features[0]['energy']\n",
    "    instrumentalness = features[0]['instrumentalness']\n",
    "    liveness = features[0]['liveness']\n",
    "    loudness = features[0]['loudness']\n",
    "    speechiness = features[0]['speechiness']\n",
    "    tempo = features[0]['tempo']\n",
    "    key = features[0]['key']\n",
    "    mode = features[0]['mode']\n",
    "    time_signature = features[0]['time_signature']\n",
    "\n",
    "    track = [name, album, artist, release_date, length, popularity, danceability, acousticness, energy, instrumentalness, liveness, loudness, speechiness, tempo, key, mode, time_signature]\n",
    "    return track"
   ]
  },
  {
   "cell_type": "code",
   "execution_count": 9,
   "metadata": {},
   "outputs": [],
   "source": [
    "track_head = ['name', 'album', 'artist', 'release_date', 'length', 'popularity', 'danceability',\n",
    "         'acousticness', 'energy', 'instrumentalness', 'liveness', \n",
    "         'loudness', 'speechiness', 'tempo', 'key', 'mode', 'time_signature']"
   ]
  },
  {
   "cell_type": "markdown",
   "metadata": {},
   "source": [
    "**Creating Dataframes**\n",
    "\n",
    "To create the dataframes, we repeated the same function for each dataframe because the we could not find a way to create a for loop that could do what we wanted it to do. For we created a track list (track_xx) that is initially empty at first. The for loop uses the playlist list (playlist_xx) of the tournament we are creating the dataframe for. From there, we ran each song id in the playlist list in the getTrackFeatures function to get all the data we needed for each song in spotify. We appended that data into the track_list. Finally, we created a dataframe for that tournament using the fully appended track list as the data and the list of names in track_head as the column names.\n",
    "\n",
    "The only issue we ran into was that for the df_20, there were two too many songs, so the last function before the next markdown takes out the two that lost in the preliminary round and resets the dataframe index."
   ]
  },
  {
   "cell_type": "code",
   "execution_count": 10,
   "metadata": {},
   "outputs": [],
   "source": [
    "track_oct = []\n",
    "for i in range(len(playlist_oct)):\n",
    "    track = getTrackFeatures(playlist_oct[i])\n",
    "    track_oct.append(track)\n",
    "\n",
    "df_oct = pd.DataFrame(track_oct, columns = track_head)"
   ]
  },
  {
   "cell_type": "code",
   "execution_count": 11,
   "metadata": {},
   "outputs": [],
   "source": [
    "track_17 = []\n",
    "for i in range(len(playlist_17)):\n",
    "    track = getTrackFeatures(playlist_17[i])\n",
    "    track_17.append(track)\n",
    "\n",
    "df_17 = pd.DataFrame(track_17, columns = track_head)"
   ]
  },
  {
   "cell_type": "code",
   "execution_count": 12,
   "metadata": {},
   "outputs": [],
   "source": [
    "track_18 = []\n",
    "for i in range(len(playlist_18)):\n",
    "    track = getTrackFeatures(playlist_18[i])\n",
    "    track_18.append(track)\n",
    "\n",
    "df_18 = pd.DataFrame(track_18, columns = track_head)"
   ]
  },
  {
   "cell_type": "code",
   "execution_count": 13,
   "metadata": {},
   "outputs": [],
   "source": [
    "track_19 = []\n",
    "for i in range(len(playlist_19)):\n",
    "    track = getTrackFeatures(playlist_19[i])\n",
    "    track_19.append(track)\n",
    "\n",
    "df_19 = pd.DataFrame(track_19, columns = track_head)"
   ]
  },
  {
   "cell_type": "code",
   "execution_count": 14,
   "metadata": {},
   "outputs": [],
   "source": [
    "track_20 = []\n",
    "for i in range(len(playlist_20)):\n",
    "    track = getTrackFeatures(playlist_20[i])\n",
    "    track_20.append(track)\n",
    "\n",
    "df_20 = pd.DataFrame(track_20, columns = track_head)"
   ]
  },
  {
   "cell_type": "code",
   "execution_count": 15,
   "metadata": {},
   "outputs": [],
   "source": [
    "df_20 = df_20.drop(df_20.index[[2,3]])\n",
    "df_20 = df_20.reset_index()"
   ]
  },
  {
   "cell_type": "markdown",
   "metadata": {},
   "source": [
    "**Adding Calculated Columns**\n",
    "\n",
    "The dataframe had the information we wanted but not in the way we wanted it to be Therefore, we had to create calculated columns to reformat the data. \n",
    "\n",
    "- LENGTH: Initially, the length of the song was measured in milliseconds (length). To gage this better, we wanted to length to be calculated by minutes. To do this, we create the column \"minutes\" by dividing the length by 60000: the conversion rate of minutes to milliseconds.\n",
    "- SEED: Because I organized the songs in my playlist by seed, the code above imported the songs in that order. The one seed was in the first row of the dataframe , but its index was 0. To correctly get the seed, I used the index of the song in the dataframe and added it by 1. \n",
    "- YEAR: using the DatetimeIndex function, we extracted the year out of the release date to get its release year. \n",
    "- SHARP: The key of the song is organized by numbers from 0-11. With these keys, however, there are major and minor variations, which I found was in the metadata under a variable called mode (0 for minor, 1 for major). In order to get a better representation of the key, I organized every major and minor key based on the number of black keys in its scale. Using a chart called \"the circle of fifths\", I found out which major and minor keys had how many black keys. With that information, I created the black_keys function to identify each key and tell how many sharps are in said key."
   ]
  },
  {
   "cell_type": "code",
   "execution_count": 16,
   "metadata": {},
   "outputs": [],
   "source": [
    "def black_keys(x):\n",
    "    if (x['key'] == 0 and x['mode'] == 1) or  (x['key'] == 9 and x['mode'] == 0): \n",
    "        return 0 \n",
    "    elif (((x['key'] == 1 or x['key'] == 6) or x['key'] == 11) and x['mode'] == 1) or (((x['key'] == 3 or x['key'] == 8) or x['key'] == 10) and x['mode'] == 0): \n",
    "        return 5\n",
    "    elif ((x['key'] == 2 or x['key'] == 10) and x['mode'] == 1) or ((x['key'] == 7 or x['key'] == 11) and x['mode'] == 0): \n",
    "        return 2\n",
    "    elif ((x['key'] == 3 or x['key'] == 9) and x['mode'] == 1) or ((x['key'] == 0 or x['key'] == 6) and x['mode'] == 0): \n",
    "        return 3\n",
    "    elif ((x['key'] == 4 or x['key'] == 8) and x['mode'] == 1) or ((x['key'] == 1 or x['key'] == 5) and x['mode'] == 0): \n",
    "        return 4 \n",
    "    elif ((x['key'] == 5 or x['key'] == 7) and x['mode'] == 1) or ((x['key'] == 4 or x['key'] == 2) and x['mode'] == 0): \n",
    "        return 1"
   ]
  },
  {
   "cell_type": "code",
   "execution_count": 17,
   "metadata": {},
   "outputs": [],
   "source": [
    "df_list = [df_oct, df_17, df_18, df_19, df_20]\n",
    "for x in df_list:\n",
    "    x['minutes']= x.length/60000\n",
    "    x['seed'] = x.index + 1\n",
    "    x['year'] = pd.DatetimeIndex(x['release_date']).year\n",
    "    x['sharp'] = x.apply(black_keys, axis=1)"
   ]
  },
  {
   "cell_type": "markdown",
   "metadata": {},
   "source": [
    "**MOCK SIMULATIONS**\n",
    "\n",
    "In these trials, there were many errors, but each served its purpose in creating the final simulation.\n",
    "\n",
    "Simulation 1:\n",
    "\n",
    "For our first attempt, we created a dictionary that used the name and a list that used tempo as the one variable to predict the winner. The data dictionary is used match each tempo to the song for the end from the dataframe. The list (rankings) extracted data from the tempo column in the dataframe and places them in order of seed. \n",
    "\n",
    "The first for loop simulates each round. The wins variable is a list that gets redefined each round to hold the winners of each round. From there, I created a variable y, which determines how many matchups there are in each round (i.e. in the first round, there are 16 songs, represented by the 16 tempos in the rankings list). \n",
    "\n",
    "The nested for loop used y to create the matchups. The variable h represents the higher seed in the matchup and the variable l represents the lower seed. h is set to equal to the first item in rankings (ranking[0]) at first and l is represented by the last item in rankings (ranking[-0-1] = ranking[-1]). I then print the two tempos that match up in the round. The if functions below determine the winner. I made it so the song with the fastest tempo would win. The winning song would be appended to the wins list. If there were a tie, I said it was a push. \n",
    "\n",
    "I then set rankings to equal wins so when the first for loop begins again, it works with the updated list of the next round.\n",
    "\n",
    "The way we created the for loop that creates the matchup mimics the way the standard brackets play out. In bracket-style matchups, the winner of the 1 vs 16 matchup always plays the winner of the 8 vs 9 matchup. Our for loop works from the outside in. The first item matchs up with the last item, and because these items are in order of seed, that make that first matchup 1 vs 16. From there, the loop continues by moving its way to the center of the list. The next matchup would be the second item in rankings (the 2 seed, rankings[1]) vs the second to last item in rankings (the 15 seed, rankings[-1-1] = ranking[-2]). The last matchup that is ran in the first round is the 8 seed vs 9 seed (ranking[y] vs ranking[-y-1]). The winner of that matchup would be the last item appended into the wins list. When the rankings list is set to equal the wins list at the end of each round, the winner of the 8 vs 9 matchup become the last item in rankings. Since the winner of the 1 vs 16 matchup was appended first to wins, in the second round, the first item in the new rankings list (winner of 1 vs 16) will face the last item in the list (winner of 8 vs 9) no matter what the outcome of the previous matchups were.\n",
    "\n",
    "When there is only one team left in rankings, I print the name of the song based on the dictionary (dict1) I created."
   ]
  },
  {
   "cell_type": "code",
   "execution_count": 18,
   "metadata": {
    "scrolled": false
   },
   "outputs": [],
   "source": [
    "dict1=pd.Series(df_oct.name.values,index = df_oct.tempo).to_dict()"
   ]
  },
  {
   "cell_type": "code",
   "execution_count": 19,
   "metadata": {},
   "outputs": [],
   "source": [
    "rankings = df_oct.tempo.to_list()"
   ]
  },
  {
   "cell_type": "code",
   "execution_count": 20,
   "metadata": {
    "scrolled": true
   },
   "outputs": [
    {
     "name": "stdout",
     "output_type": "stream",
     "text": [
      "126.988  vs.  124.014\n",
      "122.027  vs.  95.993\n",
      "95.046  vs.  117.039\n",
      "112.004  vs.  115.964\n",
      "105.017  vs.  89.911\n",
      "104.114  vs.  95.989\n",
      "94.931  vs.  112.991\n",
      "93.832  vs.  104.959\n",
      "[126.988, 122.027, 117.039, 115.964, 105.017, 104.114, 112.991, 104.959]\n",
      "126.988  vs.  104.959\n",
      "122.027  vs.  112.991\n",
      "117.039  vs.  104.114\n",
      "115.964  vs.  105.017\n",
      "[126.988, 122.027, 117.039, 115.964]\n",
      "126.988  vs.  115.964\n",
      "122.027  vs.  117.039\n",
      "[126.988, 122.027]\n",
      "126.988  vs.  122.027\n",
      "[126.988]\n"
     ]
    },
    {
     "data": {
      "text/plain": [
       "[126.988]"
      ]
     },
     "execution_count": 20,
     "metadata": {},
     "output_type": "execute_result"
    }
   ],
   "source": [
    "for q in range(4):\n",
    "    wins = []\n",
    "    y = len(rankings)/2\n",
    "    y = int(y)\n",
    "    for x in range(0, y):\n",
    "        h = rankings[x]\n",
    "        l = rankings[-x-1]\n",
    "        print(h, ' vs. ', l)\n",
    "        if l < h: \n",
    "            wins.append(h)\n",
    "        if l > h:\n",
    "            wins.append(l)\n",
    "        if h == l: \n",
    "            print('push')\n",
    "    print(wins)\n",
    "    rankings = wins\n",
    "rankings"
   ]
  },
  {
   "cell_type": "code",
   "execution_count": 21,
   "metadata": {
    "scrolled": false
   },
   "outputs": [
    {
     "name": "stdout",
     "output_type": "stream",
     "text": [
      "Waka Waka (This Time for Africa) [The Official 2010 FIFA World Cup (TM) Song] (feat. Freshlyground)\n"
     ]
    }
   ],
   "source": [
    "print(dict1[rankings[0]])"
   ]
  },
  {
   "cell_type": "markdown",
   "metadata": {},
   "source": [
    "Simulation 2:\n",
    "\n",
    "One of the glaring issues for the simulation above was that there was too much middleman work in the form of the list and the dictionary. To fix this, we simulated only one round, but for my variables h and l, we were able to extract all the songs' attributes by using the iloc[] function on the dataframe in the format of a dataframe row. The wins list function stayed the same, but the variable y had to change from measuring the length of a list to the length of a dataframe. All that had to be done was put the dataframe name into the len() function to say how many rows there were. The if functions now extract the desired variables by inputting their column name. I used seed because it is very easy to track. To make the winners easier to track, for the winners who were appended to the wins list, we printed the name of the winning song."
   ]
  },
  {
   "cell_type": "code",
   "execution_count": 22,
   "metadata": {},
   "outputs": [],
   "source": [
    "df_headers = list(df_oct.columns)\n",
    "df_r1 = df_oct\n",
    "df_r2 = pd.DataFrame(columns = df_headers)"
   ]
  },
  {
   "cell_type": "code",
   "execution_count": 23,
   "metadata": {},
   "outputs": [
    {
     "name": "stdout",
     "output_type": "stream",
     "text": [
      "Waka Waka (This Time for Africa) [The Official 2010 FIFA World Cup (TM) Song] (feat. Freshlyground)  vs.  Yo Voy Ganao\n",
      "Winner: Waka Waka (This Time for Africa) [The Official 2010 FIFA World Cup (TM) Song] (feat. Freshlyground)\n",
      "Lo Mismo  vs.  Cuando Nadie Ve\n",
      "Winner: Lo Mismo\n",
      "Robarte un Beso  vs.  Soy Yo\n",
      "Winner: Robarte un Beso\n",
      "La Libertad  vs.  Baila\n",
      "Winner: La Libertad\n",
      "Vivir Mi Vida  vs.  Somos los Prietos (feat. Alexis Play)\n",
      "Winner: Vivir Mi Vida\n",
      "Andas En Mi Cabeza  vs.  Échame La Culpa\n",
      "Winner: Andas En Mi Cabeza\n",
      "Un Año  vs.  El Mismo Sol\n",
      "Winner: Un Año\n",
      "Cásate Conmigo  vs.  Mi Gente\n",
      "Winner: Cásate Conmigo\n"
     ]
    }
   ],
   "source": [
    "wins = []\n",
    "y = len(df_r1)/2\n",
    "y = int(y)\n",
    "for x in range(0, y):\n",
    "    h = df_r1.iloc[x]\n",
    "    l = df_r1.iloc[-x-1]\n",
    "    print(h['name'], ' vs. ', l['name'])\n",
    "    if h['seed'] < l['seed']: \n",
    "        wins.append(h)\n",
    "        print(\"Winner:\", h['name'])\n",
    "    if h['seed'] > l['seed']:\n",
    "        wins.append(l)\n",
    "        print(\"Winner:\", l['name'])\n",
    "df_r2 = pd.DataFrame(data = wins, columns = df_headers)"
   ]
  },
  {
   "cell_type": "markdown",
   "metadata": {},
   "source": [
    "Simulation 3:\n",
    "\n",
    "The previous simulation only simulated one round. To create an accurate simulation, we had to create multiple dataframes that can be appended with data for the new round and place them in a list (rounds). For each of the dataframes, they matched the same headers as the first dataframe (df_headers). Each dataframe was put into a list ordered by the round that they corresponded to.\n",
    "\n",
    "I added a for loop that repeats 4 times (one for each round) and we replaced every instance of df_r1 in the code above with \"round[r]\". For the final append step, We used the wins list as data in the new dataframe with the column names equal to df_header. To keep records of the songs in each round, I make the dataframe created in the last step equal to the next item in rounds.\n",
    "\n",
    "The final step was to take the items in the rounds list and set them equal to themselves (df_r1 = rounds[0], etc)"
   ]
  },
  {
   "cell_type": "code",
   "execution_count": 24,
   "metadata": {},
   "outputs": [],
   "source": [
    "df_headers = list(df_oct.columns)"
   ]
  },
  {
   "cell_type": "code",
   "execution_count": 25,
   "metadata": {},
   "outputs": [],
   "source": [
    "df_r1 = df_oct\n",
    "df_r2 = pd.DataFrame(columns = df_headers)\n",
    "df_r3 = pd.DataFrame(columns = df_headers)\n",
    "df_r4 = pd.DataFrame(columns = df_headers)\n",
    "df_winner = pd.DataFrame(columns = df_headers)\n",
    "\n",
    "rounds = [df_r1, df_r2, df_r3, df_r4, df_winner]"
   ]
  },
  {
   "cell_type": "code",
   "execution_count": 26,
   "metadata": {},
   "outputs": [
    {
     "name": "stdout",
     "output_type": "stream",
     "text": [
      "Waka Waka (This Time for Africa) [The Official 2010 FIFA World Cup (TM) Song] (feat. Freshlyground)  vs.  Yo Voy Ganao\n",
      "Winner: Waka Waka (This Time for Africa) [The Official 2010 FIFA World Cup (TM) Song] (feat. Freshlyground)\n",
      "Lo Mismo  vs.  Cuando Nadie Ve\n",
      "Winner: Lo Mismo\n",
      "Robarte un Beso  vs.  Soy Yo\n",
      "Winner: Soy Yo\n",
      "La Libertad  vs.  Baila\n",
      "Winner: Baila\n",
      "Vivir Mi Vida  vs.  Somos los Prietos (feat. Alexis Play)\n",
      "Winner: Vivir Mi Vida\n",
      "Andas En Mi Cabeza  vs.  Échame La Culpa\n",
      "Winner: Andas En Mi Cabeza\n",
      "Un Año  vs.  El Mismo Sol\n",
      "Winner: El Mismo Sol\n",
      "Cásate Conmigo  vs.  Mi Gente\n",
      "Winner: Mi Gente\n",
      "Waka Waka (This Time for Africa) [The Official 2010 FIFA World Cup (TM) Song] (feat. Freshlyground)  vs.  Mi Gente\n",
      "Winner: Waka Waka (This Time for Africa) [The Official 2010 FIFA World Cup (TM) Song] (feat. Freshlyground)\n",
      "Lo Mismo  vs.  El Mismo Sol\n",
      "Winner: Lo Mismo\n",
      "Soy Yo  vs.  Andas En Mi Cabeza\n",
      "Winner: Soy Yo\n",
      "Baila  vs.  Vivir Mi Vida\n",
      "Winner: Baila\n",
      "Waka Waka (This Time for Africa) [The Official 2010 FIFA World Cup (TM) Song] (feat. Freshlyground)  vs.  Baila\n",
      "Winner: Waka Waka (This Time for Africa) [The Official 2010 FIFA World Cup (TM) Song] (feat. Freshlyground)\n",
      "Lo Mismo  vs.  Soy Yo\n",
      "Winner: Lo Mismo\n",
      "Waka Waka (This Time for Africa) [The Official 2010 FIFA World Cup (TM) Song] (feat. Freshlyground)  vs.  Lo Mismo\n",
      "Winner: Waka Waka (This Time for Africa) [The Official 2010 FIFA World Cup (TM) Song] (feat. Freshlyground)\n"
     ]
    }
   ],
   "source": [
    "rounds = [df_r1, df_r2, df_r3, df_r4, df_winner]\n",
    "for r in range (0,4):\n",
    "    wins = []\n",
    "    y = len(rounds[r])/2\n",
    "    y = int(y)\n",
    "    for x in range(0, y):\n",
    "        h = rounds[r].iloc[x]\n",
    "        l = rounds[r].iloc[-x-1]\n",
    "        print(h['name'], ' vs. ', l['name'])\n",
    "        if h['tempo'] > l['tempo']: \n",
    "            wins.append(h)\n",
    "            print(\"Winner:\", h['name'])\n",
    "        if h['tempo'] < l['tempo']:\n",
    "            wins.append(l)\n",
    "            print(\"Winner:\", l['name'])\n",
    "    rounds[r+1] = pd.DataFrame(data = wins, columns = df_headers)"
   ]
  },
  {
   "cell_type": "code",
   "execution_count": 27,
   "metadata": {},
   "outputs": [],
   "source": [
    "df_r1 = rounds[0]\n",
    "df_r2 = rounds[1]\n",
    "df_r3 = rounds[2]\n",
    "df_r4 = rounds[3]\n",
    "df_winner = rounds[4]"
   ]
  },
  {
   "cell_type": "code",
   "execution_count": 29,
   "metadata": {},
   "outputs": [
    {
     "data": {
      "text/html": [
       "<div>\n",
       "<style scoped>\n",
       "    .dataframe tbody tr th:only-of-type {\n",
       "        vertical-align: middle;\n",
       "    }\n",
       "\n",
       "    .dataframe tbody tr th {\n",
       "        vertical-align: top;\n",
       "    }\n",
       "\n",
       "    .dataframe thead th {\n",
       "        text-align: right;\n",
       "    }\n",
       "</style>\n",
       "<table border=\"1\" class=\"dataframe\">\n",
       "  <thead>\n",
       "    <tr style=\"text-align: right;\">\n",
       "      <th></th>\n",
       "      <th>name</th>\n",
       "      <th>album</th>\n",
       "      <th>artist</th>\n",
       "      <th>release_date</th>\n",
       "      <th>length</th>\n",
       "      <th>popularity</th>\n",
       "      <th>danceability</th>\n",
       "      <th>acousticness</th>\n",
       "      <th>energy</th>\n",
       "      <th>instrumentalness</th>\n",
       "      <th>...</th>\n",
       "      <th>loudness</th>\n",
       "      <th>speechiness</th>\n",
       "      <th>tempo</th>\n",
       "      <th>key</th>\n",
       "      <th>mode</th>\n",
       "      <th>time_signature</th>\n",
       "      <th>minutes</th>\n",
       "      <th>seed</th>\n",
       "      <th>year</th>\n",
       "      <th>sharp</th>\n",
       "    </tr>\n",
       "  </thead>\n",
       "  <tbody>\n",
       "    <tr>\n",
       "      <th>0</th>\n",
       "      <td>Waka Waka (This Time for Africa) [The Official...</td>\n",
       "      <td>Waka Waka (This Time for Africa) [The Official...</td>\n",
       "      <td>Shakira</td>\n",
       "      <td>2010-05-07</td>\n",
       "      <td>202626</td>\n",
       "      <td>77</td>\n",
       "      <td>0.766</td>\n",
       "      <td>0.00627</td>\n",
       "      <td>0.873</td>\n",
       "      <td>0.0</td>\n",
       "      <td>...</td>\n",
       "      <td>-6.381</td>\n",
       "      <td>0.143</td>\n",
       "      <td>126.988</td>\n",
       "      <td>11</td>\n",
       "      <td>0</td>\n",
       "      <td>4</td>\n",
       "      <td>3.3771</td>\n",
       "      <td>1</td>\n",
       "      <td>2010</td>\n",
       "      <td>2</td>\n",
       "    </tr>\n",
       "  </tbody>\n",
       "</table>\n",
       "<p>1 rows × 21 columns</p>\n",
       "</div>"
      ],
      "text/plain": [
       "                                                name  \\\n",
       "0  Waka Waka (This Time for Africa) [The Official...   \n",
       "\n",
       "                                               album   artist release_date  \\\n",
       "0  Waka Waka (This Time for Africa) [The Official...  Shakira   2010-05-07   \n",
       "\n",
       "   length  popularity  danceability  acousticness  energy  instrumentalness  \\\n",
       "0  202626          77         0.766       0.00627   0.873               0.0   \n",
       "\n",
       "   ...  loudness  speechiness    tempo  key  mode  time_signature  minutes  \\\n",
       "0  ...    -6.381        0.143  126.988   11     0               4   3.3771   \n",
       "\n",
       "   seed  year  sharp  \n",
       "0     1  2010      2  \n",
       "\n",
       "[1 rows x 21 columns]"
      ]
     },
     "execution_count": 29,
     "metadata": {},
     "output_type": "execute_result"
    }
   ],
   "source": [
    "df_winner"
   ]
  }
 ],
 "metadata": {
  "kernelspec": {
   "display_name": "Python 3",
   "language": "python",
   "name": "python3"
  },
  "language_info": {
   "codemirror_mode": {
    "name": "ipython",
    "version": 3
   },
   "file_extension": ".py",
   "mimetype": "text/x-python",
   "name": "python",
   "nbconvert_exporter": "python",
   "pygments_lexer": "ipython3",
   "version": "3.8.3"
  }
 },
 "nbformat": 4,
 "nbformat_minor": 4
}
