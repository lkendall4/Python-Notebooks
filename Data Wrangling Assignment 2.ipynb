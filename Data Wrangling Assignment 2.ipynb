{
 "cells": [
  {
   "cell_type": "markdown",
   "metadata": {},
   "source": [
    "1. Use the following link to learn about the first four different ways of dealing with missing\n",
    "values mentioned in the link (do nothing, imputing using mean/median values, imputing \n",
    "using most frequent values, and imputing using K-NN). Then answer the following \n",
    "questions:\n",
    "https://towardsdatascience.com/6-different-ways-to-compensate-for-missing-values-data\u0002imputation-with-examples-6022d9ca0779\n",
    "\n",
    "(3)\n",
    "\n",
    "3. Read the food.csv dataset in Jupyter Notebook and answer the following questions.\n",
    "a) Convert the column types where needed. (5 points)\n",
    "b) How much money on average were spent by each gender? Answer this question using \n",
    "two approaches: 1. using pivot_table 2. using groupby method. (5 points)\n",
    "c) How much money were spent overall by each gender separately? (5 points)\n",
    "d) How much money on average were spent by each gender per item per city? Answer \n",
    "this question using two approaches: 1. using pivot_table 2. using groupby method. (10 \n",
    "points)\n",
    "4. Read the four following datasets and answer the questions below:\n",
    "Datasets: Restaurant - Week 1 Sales.csv, Restaurant - Week 2 Sales.csv, Restaurant -\n",
    "Customers.csv, and Restaurant - Foods.csv.\n",
    "a) Based on week1 and week2 sales (first and second datasets), find out the customers \n",
    "who ordered food in either week1 or week2 but not both weeks. (10 points)\n",
    "b) Consider two datasets, week2 sales and restaurant customers. Merge these two datasets \n",
    "such that it results in a dataframe where we see the food information (food name and \n",
    "food price) for the week2 customers Notice that we have \"Customet ID\" column in one, \n",
    "while \"ID\" column in the other. (10 points)"
   ]
  },
  {
   "cell_type": "markdown",
   "metadata": {},
   "source": [
    "# 1"
   ]
  },
  {
   "cell_type": "markdown",
   "metadata": {},
   "source": [
    "a) Which approaches are better to be used to deal with missing values of a categorical \n",
    "column? \n",
    "\n",
    "- using most frequent, imputing using KNN/deep learning\n",
    "\n",
    "b) Which method is sensitive to outliers? Which method considers all column’s information when dealing with the missing values of one column?\n",
    "\n",
    "- using KNN is sensitive to outliers, deep learning considers all column’s information when dealing with the missing values of one column?\n",
    "\n",
    "c) What are the pros and cons of imputation using most frequent values? \n",
    "\n",
    "Pros:\n",
    "\n",
    "- Works well with categorical features.\n",
    "\n",
    "Cons:\n",
    "\n",
    "- It also doesn’t factor the correlations between features.\n",
    "- It can introduce bias in the data."
   ]
  },
  {
   "cell_type": "markdown",
   "metadata": {},
   "source": [
    "# 2"
   ]
  },
  {
   "cell_type": "code",
   "execution_count": null,
   "metadata": {},
   "outputs": [],
   "source": [
    "2. Read the nba (National Basketball Association) dataset in Jupyter Notebook and answer \n",
    "the following questions.\n",
    "a) Take a random sample of the dataset that includes 80% of the data and answer the \n",
    "following questions using the sample. (2)\n",
    "b) Find out the number of missing values in each column (5 points)\n",
    "c) Drop the rows for which all columns’ values are zero. (2 points)\n",
    "d) Replace the missing values of the “College” column with the most frequent college \n",
    "name in the dataset and replace the missing values of the “Salary” column with the \n",
    "average salary using imputation. (6 points)\n",
    "e) Convert the type of “Salary” and “Number” columns both to integer (2).\n"
   ]
  },
  {
   "cell_type": "code",
   "execution_count": 1,
   "metadata": {},
   "outputs": [],
   "source": [
    "import pandas as pd"
   ]
  },
  {
   "cell_type": "code",
   "execution_count": 2,
   "metadata": {},
   "outputs": [],
   "source": [
    "nba = pd.read_csv(\"C:/Users/student/Documents/Creighton/Data Wrangling/nba.csv\")"
   ]
  },
  {
   "cell_type": "code",
   "execution_count": 5,
   "metadata": {},
   "outputs": [],
   "source": [
    "# a)\n",
    "nba = nba.sample(frac=.8)"
   ]
  },
  {
   "cell_type": "code",
   "execution_count": 19,
   "metadata": {},
   "outputs": [
    {
     "data": {
      "text/plain": [
       "Name        1\n",
       "Team        1\n",
       "Number      1\n",
       "Position    1\n",
       "Age         1\n",
       "Height      1\n",
       "Weight      1\n",
       "College     0\n",
       "Salary      0\n",
       "dtype: int64"
      ]
     },
     "execution_count": 19,
     "metadata": {},
     "output_type": "execute_result"
    }
   ],
   "source": [
    "# b)\n",
    "nba.isnull().sum()"
   ]
  },
  {
   "cell_type": "code",
   "execution_count": 12,
   "metadata": {},
   "outputs": [],
   "source": [
    "# c)\n",
    "nba = nba.loc[nba[\"Number\"] !=0 ]\n",
    "nba = nba.loc[nba[\"Age\"] !=0 ]\n",
    "nba = nba.loc[nba[\"Height\"] !=0 ]\n",
    "nba = nba.loc[nba[\"Weight\"] !=0 ]\n",
    "nba = nba.loc[nba[\"Salary\"] !=0 ]"
   ]
  },
  {
   "cell_type": "code",
   "execution_count": 14,
   "metadata": {},
   "outputs": [
    {
     "data": {
      "text/plain": [
       "Kentucky           19\n",
       "Kansas             15\n",
       "Duke               15\n",
       "North Carolina     14\n",
       "UCLA               11\n",
       "                   ..\n",
       "Oklahoma            1\n",
       "DePaul              1\n",
       "Utah Valley         1\n",
       "St. Bonaventure     1\n",
       "Miami (FL)          1\n",
       "Name: College, Length: 99, dtype: int64"
      ]
     },
     "execution_count": 14,
     "metadata": {},
     "output_type": "execute_result"
    }
   ],
   "source": [
    "# d)\n",
    "\n",
    "nba.College.value_counts()"
   ]
  },
  {
   "cell_type": "code",
   "execution_count": 15,
   "metadata": {},
   "outputs": [],
   "source": [
    "# d)\n",
    "nba.College.fillna(\"Kentucky\", inplace = True)\n",
    "nba.Salary.fillna(nba.Salary.mean(), inplace = True)"
   ]
  },
  {
   "cell_type": "code",
   "execution_count": 20,
   "metadata": {},
   "outputs": [],
   "source": [
    "# e)\n",
    "nba.Number.fillna(nba.Number.mean(), inplace = True)\n",
    "nba.Salary = nba.Salary.astype(int)\n",
    "nba.Number = nba.Number.astype(int)"
   ]
  },
  {
   "cell_type": "code",
   "execution_count": null,
   "metadata": {},
   "outputs": [],
   "source": [
    "f) What are the unique positions existing within the “Position” column? Is any type \n",
    "conversion needed for this column? If yes, convert the column type to the most \n",
    "appropriate type. (5)\n",
    "\n",
    "\n",
    "\n"
   ]
  },
  {
   "cell_type": "code",
   "execution_count": 22,
   "metadata": {},
   "outputs": [
    {
     "data": {
      "text/plain": [
       "array(['PF', 'C', 'SF', 'SG', 'PG', nan], dtype=object)"
      ]
     },
     "execution_count": 22,
     "metadata": {},
     "output_type": "execute_result"
    }
   ],
   "source": [
    "#f)\n",
    "nba.Position.unique()"
   ]
  },
  {
   "cell_type": "code",
   "execution_count": 37,
   "metadata": {},
   "outputs": [],
   "source": [
    "nba.Position = nba.Position.astype(\"category\")"
   ]
  },
  {
   "cell_type": "raw",
   "metadata": {},
   "source": [
    "# replace null values with knn\n",
    "import sys\n",
    "from impyute.imputation.cs import fast_knn\n",
    "sys.setrecursionlimit(100000) #Increase the recursion limit of the OS\n",
    "\n",
    "# start the KNN training\n",
    "fast_knn(nba['Position'], k=30)"
   ]
  },
  {
   "cell_type": "code",
   "execution_count": 32,
   "metadata": {},
   "outputs": [
    {
     "data": {
      "text/plain": [
       "SG    78\n",
       "PF    76\n",
       "PG    67\n",
       "SF    65\n",
       "C     59\n",
       "Name: Position, dtype: int64"
      ]
     },
     "execution_count": 32,
     "metadata": {},
     "output_type": "execute_result"
    }
   ],
   "source": [
    "# replace null values with most frequent\n",
    "\n",
    "nba.Position.value_counts()"
   ]
  },
  {
   "cell_type": "code",
   "execution_count": 33,
   "metadata": {},
   "outputs": [],
   "source": [
    "nba.Position = nba.Position.fillna(\"SG\")"
   ]
  },
  {
   "cell_type": "code",
   "execution_count": null,
   "metadata": {},
   "outputs": [],
   "source": [
    "#g)"
   ]
  },
  {
   "cell_type": "code",
   "execution_count": 34,
   "metadata": {},
   "outputs": [
    {
     "data": {
      "text/plain": [
       "30"
      ]
     },
     "execution_count": 34,
     "metadata": {},
     "output_type": "execute_result"
    }
   ],
   "source": [
    "nba.Team.nunique()"
   ]
  },
  {
   "cell_type": "code",
   "execution_count": 35,
   "metadata": {},
   "outputs": [
    {
     "data": {
      "text/plain": [
       "11.533333333333333"
      ]
     },
     "execution_count": 35,
     "metadata": {},
     "output_type": "execute_result"
    }
   ],
   "source": [
    "len(nba)/nba.Team.nunique()"
   ]
  },
  {
   "cell_type": "code",
   "execution_count": 36,
   "metadata": {},
   "outputs": [],
   "source": [
    "nba.Team = nba.Team.astype('category')"
   ]
  },
  {
   "cell_type": "code",
   "execution_count": 44,
   "metadata": {},
   "outputs": [
    {
     "name": "stdout",
     "output_type": "stream",
     "text": [
      "Collecting memory_profiler\n",
      "  Downloading memory_profiler-0.61.0-py3-none-any.whl (31 kB)\n",
      "Requirement already satisfied: psutil in c:\\users\\student\\anaconda3\\lib\\site-packages (from memory_profiler) (5.7.0)\n",
      "Installing collected packages: memory-profiler\n",
      "Successfully installed memory-profiler-0.61.0\n"
     ]
    }
   ],
   "source": [
    "!pip install memory_profiler"
   ]
  },
  {
   "cell_type": "code",
   "execution_count": 48,
   "metadata": {},
   "outputs": [
    {
     "name": "stdout",
     "output_type": "stream",
     "text": [
      "170135552\n"
     ]
    }
   ],
   "source": [
    "#h) Compare the memory usage in the beginning and at the end and report how much the \n",
    "# changes you made impacted the memory usage.\n",
    "\n",
    "import os, psutil\n",
    "process = psutil.Process(os.getpid())\n",
    "print(process.memory_info().rss)  # in bytes "
   ]
  },
  {
   "cell_type": "code",
   "execution_count": null,
   "metadata": {},
   "outputs": [],
   "source": [
    "# i "
   ]
  },
  {
   "cell_type": "code",
   "execution_count": 53,
   "metadata": {},
   "outputs": [],
   "source": [
    "nba = nba.sort_values(by = ['Team'], ascending = True)"
   ]
  },
  {
   "cell_type": "code",
   "execution_count": 55,
   "metadata": {},
   "outputs": [],
   "source": [
    "nba = nba.sort_values(by = ['Salary'], ascending = False, ignore_index = True)"
   ]
  },
  {
   "cell_type": "code",
   "execution_count": 56,
   "metadata": {},
   "outputs": [
    {
     "data": {
      "text/html": [
       "<div>\n",
       "<style scoped>\n",
       "    .dataframe tbody tr th:only-of-type {\n",
       "        vertical-align: middle;\n",
       "    }\n",
       "\n",
       "    .dataframe tbody tr th {\n",
       "        vertical-align: top;\n",
       "    }\n",
       "\n",
       "    .dataframe thead th {\n",
       "        text-align: right;\n",
       "    }\n",
       "</style>\n",
       "<table border=\"1\" class=\"dataframe\">\n",
       "  <thead>\n",
       "    <tr style=\"text-align: right;\">\n",
       "      <th></th>\n",
       "      <th>Name</th>\n",
       "      <th>Team</th>\n",
       "      <th>Number</th>\n",
       "      <th>Position</th>\n",
       "      <th>Age</th>\n",
       "      <th>Height</th>\n",
       "      <th>Weight</th>\n",
       "      <th>College</th>\n",
       "      <th>Salary</th>\n",
       "    </tr>\n",
       "  </thead>\n",
       "  <tbody>\n",
       "    <tr>\n",
       "      <th>0</th>\n",
       "      <td>Kobe Bryant</td>\n",
       "      <td>Los Angeles Lakers</td>\n",
       "      <td>24</td>\n",
       "      <td>SF</td>\n",
       "      <td>37.0</td>\n",
       "      <td>6-6</td>\n",
       "      <td>212.0</td>\n",
       "      <td>Kentucky</td>\n",
       "      <td>25000000</td>\n",
       "    </tr>\n",
       "    <tr>\n",
       "      <th>1</th>\n",
       "      <td>LeBron James</td>\n",
       "      <td>Cleveland Cavaliers</td>\n",
       "      <td>23</td>\n",
       "      <td>SF</td>\n",
       "      <td>31.0</td>\n",
       "      <td>6-8</td>\n",
       "      <td>250.0</td>\n",
       "      <td>Kentucky</td>\n",
       "      <td>22970500</td>\n",
       "    </tr>\n",
       "    <tr>\n",
       "      <th>2</th>\n",
       "      <td>Carmelo Anthony</td>\n",
       "      <td>New York Knicks</td>\n",
       "      <td>7</td>\n",
       "      <td>SF</td>\n",
       "      <td>32.0</td>\n",
       "      <td>6-8</td>\n",
       "      <td>240.0</td>\n",
       "      <td>Syracuse</td>\n",
       "      <td>22875000</td>\n",
       "    </tr>\n",
       "    <tr>\n",
       "      <th>3</th>\n",
       "      <td>Dwight Howard</td>\n",
       "      <td>Houston Rockets</td>\n",
       "      <td>12</td>\n",
       "      <td>C</td>\n",
       "      <td>30.0</td>\n",
       "      <td>6-11</td>\n",
       "      <td>265.0</td>\n",
       "      <td>Kentucky</td>\n",
       "      <td>22359364</td>\n",
       "    </tr>\n",
       "    <tr>\n",
       "      <th>4</th>\n",
       "      <td>Chris Bosh</td>\n",
       "      <td>Miami Heat</td>\n",
       "      <td>1</td>\n",
       "      <td>PF</td>\n",
       "      <td>32.0</td>\n",
       "      <td>6-11</td>\n",
       "      <td>235.0</td>\n",
       "      <td>Georgia Tech</td>\n",
       "      <td>22192730</td>\n",
       "    </tr>\n",
       "  </tbody>\n",
       "</table>\n",
       "</div>"
      ],
      "text/plain": [
       "              Name                 Team  Number Position   Age Height  Weight  \\\n",
       "0      Kobe Bryant   Los Angeles Lakers      24       SF  37.0    6-6   212.0   \n",
       "1     LeBron James  Cleveland Cavaliers      23       SF  31.0    6-8   250.0   \n",
       "2  Carmelo Anthony      New York Knicks       7       SF  32.0    6-8   240.0   \n",
       "3    Dwight Howard      Houston Rockets      12        C  30.0   6-11   265.0   \n",
       "4       Chris Bosh           Miami Heat       1       PF  32.0   6-11   235.0   \n",
       "\n",
       "        College    Salary  \n",
       "0      Kentucky  25000000  \n",
       "1      Kentucky  22970500  \n",
       "2      Syracuse  22875000  \n",
       "3      Kentucky  22359364  \n",
       "4  Georgia Tech  22192730  "
      ]
     },
     "execution_count": 56,
     "metadata": {},
     "output_type": "execute_result"
    }
   ],
   "source": [
    "nba.head()"
   ]
  },
  {
   "cell_type": "code",
   "execution_count": null,
   "metadata": {},
   "outputs": [],
   "source": [
    "# j)"
   ]
  },
  {
   "cell_type": "code",
   "execution_count": 68,
   "metadata": {},
   "outputs": [],
   "source": [
    "under_25 = nba[nba['Age']<25]\n",
    "_25_35 = nba[(nba['Age']>=25) & (nba['Age']<=35)]\n",
    "over_35 = nba[nba['Age']>35]"
   ]
  },
  {
   "cell_type": "code",
   "execution_count": 67,
   "metadata": {},
   "outputs": [
    {
     "data": {
      "text/plain": [
       "2631383.2868852457"
      ]
     },
     "execution_count": 67,
     "metadata": {},
     "output_type": "execute_result"
    }
   ],
   "source": [
    "under_25.Salary.mean()"
   ]
  },
  {
   "cell_type": "code",
   "execution_count": 69,
   "metadata": {},
   "outputs": [
    {
     "data": {
      "text/plain": [
       "6312135.931707317"
      ]
     },
     "execution_count": 69,
     "metadata": {},
     "output_type": "execute_result"
    }
   ],
   "source": [
    "_25_35.Salary.mean()"
   ]
  },
  {
   "cell_type": "code",
   "execution_count": 70,
   "metadata": {},
   "outputs": [
    {
     "data": {
      "text/plain": [
       "4371275.611111111"
      ]
     },
     "execution_count": 70,
     "metadata": {},
     "output_type": "execute_result"
    }
   ],
   "source": [
    "over_35.Salary.mean()"
   ]
  },
  {
   "cell_type": "markdown",
   "metadata": {},
   "source": [
    "25 through 35 has the highest average salary."
   ]
  }
 ],
 "metadata": {
  "kernelspec": {
   "display_name": "Python 3",
   "language": "python",
   "name": "python3"
  },
  "language_info": {
   "codemirror_mode": {
    "name": "ipython",
    "version": 3
   },
   "file_extension": ".py",
   "mimetype": "text/x-python",
   "name": "python",
   "nbconvert_exporter": "python",
   "pygments_lexer": "ipython3",
   "version": "3.8.3"
  }
 },
 "nbformat": 4,
 "nbformat_minor": 4
}
